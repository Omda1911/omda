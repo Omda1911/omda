{
 "cells": [
  {
   "cell_type": "code",
   "execution_count": 2,
   "id": "75c9b389",
   "metadata": {},
   "outputs": [
    {
     "name": "stdout",
     "output_type": "stream",
     "text": [
      "(1, 2, 3)\n"
     ]
    }
   ],
   "source": [
    "class Point3D:\n",
    "    def __init__(self, x, y, z):\n",
    "        self.x = x\n",
    "        self.y = y\n",
    "        self.z = z\n",
    "    \n",
    "    def programming(self):\n",
    "        return (self.x, self.y, self.z)\n",
    "\n",
    "my_point = Point3D(1, 2, 3)\n",
    "print(my_point.programming())"
   ]
  },
  {
   "cell_type": "code",
   "execution_count": null,
   "id": "8ba91eed",
   "metadata": {},
   "outputs": [],
   "source": []
  },
  {
   "cell_type": "code",
   "execution_count": 3,
   "id": "89181265",
   "metadata": {},
   "outputs": [
    {
     "name": "stdout",
     "output_type": "stream",
     "text": [
      "Area:  12\n",
      "Parimeter:  14\n"
     ]
    }
   ],
   "source": [
    "class Rectangle:\n",
    "    def __init__(self, length, width):\n",
    "        self.length = length\n",
    "        self.width = width\n",
    "    def area(self):\n",
    "        return self.length * self.width\n",
    "    def parimeter(self):\n",
    "        return 2 *(self.length + self.width)\n",
    "\n",
    "    \n",
    "my_rectangle =  Rectangle(4,3)\n",
    "\n",
    "print(\"Area: \",my_rectangle.area())\n",
    "print(\"Parimeter: \",my_rectangle.parimeter())"
   ]
  },
  {
   "cell_type": "code",
   "execution_count": null,
   "id": "d3f507e1",
   "metadata": {},
   "outputs": [],
   "source": []
  },
  {
   "cell_type": "code",
   "execution_count": 7,
   "id": "7b9a824e",
   "metadata": {},
   "outputs": [
    {
     "name": "stdout",
     "output_type": "stream",
     "text": [
      "Area:  254.46878999999998\n",
      "Parimeter:  56.54862\n",
      "Is (2, 5) inside the circle? True\n",
      "Is (3, 9) inside the circle? True\n"
     ]
    }
   ],
   "source": [
    "class Circle:\n",
    "    def __init__(self, center_x, center_y, r):\n",
    "        self.center_x = center_x\n",
    "        self.center_y = center_y\n",
    "        self.r = r\n",
    "    def area(self):\n",
    "        return 3.14159 * (self.r ** 2)\n",
    "    \n",
    "    def parimeter(self):\n",
    "        return 3.14159 * self.r * 2\n",
    "    \n",
    "    def inside(self, x, y):\n",
    "        distance =( (x - self.center_x) ** 2 + (y - self.center_y) ** 2) ** 0.5\n",
    "        if distance <= self.r:\n",
    "            return True\n",
    "        else:\n",
    "            return False\n",
    "        \n",
    "the_Circle = Circle(0, 2, 9)        \n",
    "print(\"Area: \", the_Circle.area())\n",
    "print(\"Parimeter: \", the_Circle.parimeter())\n",
    "print(\"Is (2, 5) inside the circle?\", the_Circle.inside(2, 5))\n",
    "print(\"Is (3, 9) inside the circle?\", the_Circle.inside(3, 9))"
   ]
  },
  {
   "cell_type": "code",
   "execution_count": null,
   "id": "fb5e3d83",
   "metadata": {},
   "outputs": [],
   "source": []
  },
  {
   "cell_type": "code",
   "execution_count": null,
   "id": "e772bfe9",
   "metadata": {},
   "outputs": [],
   "source": []
  },
  {
   "cell_type": "code",
   "execution_count": 12,
   "id": "bf0cbc14",
   "metadata": {},
   "outputs": [],
   "source": [
    "class Bank:\n",
    "    def __init__(self, account_balance):\n",
    "        self.account_balance = account_balance\n",
    "        \n",
    "    def deposit(self, amount):\n",
    "        self.account_balance += amount\n",
    "        \n",
    "    def withdraw(self, amount):\n",
    "        if amount <= self.account_balance:\n",
    "            self.account_balance -= amount\n",
    "        else:\n",
    "            print(\"No Enough Money !\")\n",
    "            \n",
    "    def get_balance(self):\n",
    "        return self.account_balance"
   ]
  },
  {
   "cell_type": "code",
   "execution_count": 13,
   "id": "73165b84",
   "metadata": {},
   "outputs": [
    {
     "name": "stdout",
     "output_type": "stream",
     "text": [
      "Current Balance :  2500\n",
      "Your Balance After Deposit :  2900\n",
      "Your Balance After Withdraw :  1000\n"
     ]
    }
   ],
   "source": [
    "my_bank_account = Bank(2500)\n",
    "print(\"Current Balance : \", my_bank_account.get_balance())\n",
    "\n",
    "\n",
    "my_bank_account.deposit(400)\n",
    "print(\"Your Balance After Deposit : \", my_bank_account.get_balance())\n",
    "\n",
    "my_bank_account.withdraw(1900)\n",
    "print(\"Your Balance After Withdraw : \", my_bank_account.get_balance())"
   ]
  },
  {
   "cell_type": "code",
   "execution_count": null,
   "id": "470ee8f3",
   "metadata": {},
   "outputs": [],
   "source": []
  }
 ],
 "metadata": {
  "kernelspec": {
   "display_name": "Python 3 (ipykernel)",
   "language": "python",
   "name": "python3"
  },
  "language_info": {
   "codemirror_mode": {
    "name": "ipython",
    "version": 3
   },
   "file_extension": ".py",
   "mimetype": "text/x-python",
   "name": "python",
   "nbconvert_exporter": "python",
   "pygments_lexer": "ipython3",
   "version": "3.10.9"
  }
 },
 "nbformat": 4,
 "nbformat_minor": 5
}
